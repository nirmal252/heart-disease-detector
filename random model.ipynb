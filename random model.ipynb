{
 "cells": [
  {
   "cell_type": "code",
   "execution_count": 2,
   "id": "f3b1c2a2-3d73-400a-bf9b-df2e813a6ff1",
   "metadata": {},
   "outputs": [],
   "source": [
    "import pandas as pd\n",
    "from sklearn.ensemble import RandomForestClassifier\n",
    "from sklearn.model_selection import train_test_split\n",
    "from sklearn.preprocessing import LabelEncoder\n",
    "import pickle\n",
    "\n",
    "# Load dataset\n",
    "df = pd.read_csv('heart.csv')\n",
    "\n",
    "# --- Encoding Categorical Columns ---\n",
    "# Make a copy to avoid warnings\n",
    "df = df.copy()\n",
    "\n",
    "# Manual encoding based on your app logic\n",
    "# 'Sex': 'M'->1, 'F'->0\n",
    "df['Sex'] = df['Sex'].map({'M': 1, 'F': 0})\n",
    "\n",
    "# ChestPainType\n",
    "chest_pain_map = {\"Typical Angina\": 3, \"Atypical Angina\": 1, \"Non-Anginal Pain\": 2, \"Asymptomatic\": 0}\n",
    "df['ChestPainType'] = df['ChestPainType'].map(chest_pain_map)\n",
    "\n",
    "# FastingBS is already 0/1 (assumed), otherwise map like {\"Yes\": 1, \"No\": 0}\n",
    "# RestingECG\n",
    "resting_ecg_map = {\"Normal\": 1, \"ST\": 2, \"LVH\": 0}\n",
    "df['RestingECG'] = df['RestingECG'].map(resting_ecg_map)\n",
    "\n",
    "# ExerciseAngina: 'Y'->1, 'N'->0\n",
    "df['ExerciseAngina'] = df['ExerciseAngina'].map({'Y': 1, 'N': 0})\n",
    "\n",
    "# ST_Slope\n",
    "st_slope_map = {\"Up\": 2, \"Flat\": 1, \"Down\": 0}\n",
    "df['ST_Slope'] = df['ST_Slope'].map(st_slope_map)\n",
    "\n",
    "# --- Feature selection ---\n",
    "features = ['Age', 'Sex', 'ChestPainType', 'RestingBP', 'Cholesterol',\n",
    "            'FastingBS', 'RestingECG', 'MaxHR', 'ExerciseAngina',\n",
    "            'Oldpeak', 'ST_Slope']\n",
    "\n",
    "X = df[features]\n",
    "y = df['HeartDisease']\n",
    "\n",
    "# Split data\n",
    "X_train, X_test, y_train, y_test = train_test_split(X, y, test_size=0.2, random_state=42)\n",
    "\n",
    "# Train model\n",
    "rf_model = RandomForestClassifier(n_estimators=100, random_state=42)\n",
    "rf_model.fit(X_train, y_train)\n",
    "\n",
    "# Save model\n",
    "with open('models/random_model.pkl', 'wb') as f:\n",
    "    pickle.dump(rf_model, f)\n"
   ]
  },
  {
   "cell_type": "code",
   "execution_count": null,
   "id": "f93c5e4c-091b-43f7-8ee2-619c6844af5d",
   "metadata": {},
   "outputs": [],
   "source": []
  }
 ],
 "metadata": {
  "kernelspec": {
   "display_name": "Python 3 (ipykernel)",
   "language": "python",
   "name": "python3"
  },
  "language_info": {
   "codemirror_mode": {
    "name": "ipython",
    "version": 3
   },
   "file_extension": ".py",
   "mimetype": "text/x-python",
   "name": "python",
   "nbconvert_exporter": "python",
   "pygments_lexer": "ipython3",
   "version": "3.13.3"
  }
 },
 "nbformat": 4,
 "nbformat_minor": 5
}
